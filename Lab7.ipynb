{
 "cells": [
  {
   "cell_type": "markdown",
   "metadata": {},
   "source": [
    "# Iteracyjne metody rozwiązywania równań liniowych"
   ]
  },
  {
   "cell_type": "markdown",
   "metadata": {},
   "source": [
    "### Czytanka\n",
    "* Kincaid, Cheney, rozdz. 8.2, str. 319 (bardzo przystępnie napisane)\n",
    "* Normy wektorów i macierzy:\n",
    "    * wektorowa: https://en.wikipedia.org/wiki/Norm_(mathematics)\n",
    "    * macierzowa: https://en.wikipedia.org/wiki/Matrix_norm\n",
    "* Metoda Jacobiego: https://en.wikipedia.org/wiki/Jacobi_method\n",
    "* Metoda SOR: https://en.wikipedia.org/wiki/Successive_over-relaxation\n",
    "* Metoda Gaussa-Seidela: https://en.wikipedia.org/wiki/Gauss%E2%80%93Seidel_method\n",
    "* (ale wystarczy K&C)\n",
    "\n",
    "### Troszkę teorii\n",
    "\n",
    "Chcemy rozwiązać układ równań liniowych postaci $A\\mathbf {x} =\\mathbf {b} $, gdzie:\n",
    "\n",
    "$$\n",
    "A={\\begin{bmatrix}a_{11}&a_{12}&\\cdots &a_{1n}\\\\a_{21}&a_{22}&\\cdots &a_{2n}\\\\\\vdots &\\vdots &\\ddots &\\vdots \\\\a_{n1}&a_{n2}&\\cdots &a_{nn}\\end{bmatrix}},\\qquad \\mathbf {x} ={\\begin{bmatrix}x_{1}\\\\x_{2}\\\\\\vdots \\\\x_{n}\\end{bmatrix}},\\qquad \\mathbf {b} ={\\begin{bmatrix}b_{1}\\\\b_{2}\\\\\\vdots \\\\b_{n}\\end{bmatrix}}.\n",
    "$$\n",
    "\n",
    "Mimo, że dobrze znamy dokładne metody rozwiązania takiego równania, częstokroć w praktyce nie możemy ich zastosować -- przede wszystkim ze względu na rozmiar problemu. Rozwiązanie? Zastosować metody iteracyjne, które, choć nie dadzą nam dokładnego wyniku, pozwolą nam w rozsądnym czasie uzyskać dobrą aproksymację. (Zresztą, dokładne metody też nie dają dokładnych rezultatów z powodu błędów arytmetyki zmiennoprzecinkowej).\n",
    "\n",
    "_Suchy żarcik dnia: John ma problem. John myśli: \"Wiem, użyję arytmetyki zmiennoprzecinkowej.\" Teraz John ma 1.999999997 problemu. (Zasłyszane w pracy)._\n",
    "\n",
    "\n",
    "#### Metoda Jacobiego\n",
    "\n",
    "Metody Jacobiego możemy użyć pod warunkiem, że macierz jest przekątniowo dominująca, tj. mamy $ |a_{ii}|\\geq \\sum _{j\\neq i}|a_{ij}|\\quad {\\text{dla każdego }}i. $\n",
    "\n",
    "Pomysł polega na rozkładzie macierzy A na **sumę** dwóch macierzy:\n",
    "$$\n",
    "A=D+R\\qquad {\\text{gdzie}}\\qquad D={\\begin{bmatrix}a_{11}&0&\\cdots &0\\\\0&a_{22}&\\cdots &0\\\\\\vdots &\\vdots &\\ddots &\\vdots \\\\0&0&\\cdots &a_{nn}\\end{bmatrix}}{\\text{ oraz }}R={\\begin{bmatrix}0&a_{12}&\\cdots &a_{1n}\\\\a_{21}&0&\\cdots &a_{2n}\\\\\\vdots &\\vdots &\\ddots &\\vdots \\\\a_{n1}&a_{n2}&\\cdots &0\\end{bmatrix}}.\n",
    "$$\n",
    "\n",
    "Następnie krok iteracji wygląda następująco:\n",
    "$$ \\mathbf {x} ^{(k+1)}=D^{-1}(\\mathbf {b} -R\\mathbf {x} ^{(k)}), $$\n",
    "\n",
    "I element po elemencie:\n",
    "$$ x_{i}^{(k+1)}={\\frac {1}{a_{ii}}}\\left(b_{i}-\\sum _{j\\neq i}a_{ij}x_{j}^{(k)}\\right),\\quad i=1,2,\\ldots ,n. $$\n",
    "\n",
    "Zwróćmy uwagę, że cały trick polega na tym, że macierz $D$ bardzo łatwo odwrócić.\n",
    "\n",
    "### Zadanie 1.\n",
    "Zaimplementować metodę Jacobiego i przetestować jej działanie na paru układach równań. Porównać z metodą eliminacji Gaussa użytą do tych samych równań."
   ]
  },
  {
   "cell_type": "code",
   "execution_count": 1,
   "metadata": {},
   "outputs": [],
   "source": [
    "import numpy as np\n",
    "\n",
    "def jacobi_solve(A: np.matrix, b: np.matrix, iterations = 1000) -> np.matrix:\n",
    "    n = A.shape[0]\n",
    "    x = np.zeros(n)\n",
    "    k = 0\n",
    "    while k < iterations:\n",
    "        x1 = np.zeros(n)\n",
    "        for i in range(n):\n",
    "            sum = 0\n",
    "            for j in range(n):\n",
    "                if j != i:\n",
    "                    sum += A[i,j] * x[j]\n",
    "            x1[i] = (1 / A[i,i]) * (b[i] - sum)\n",
    "        x = x1\n",
    "        k = k + 1\n",
    "    return x"
   ]
  },
  {
   "cell_type": "markdown",
   "metadata": {},
   "source": [
    "#### Metoda Gaussa-Seidela\n",
    "\n",
    "Opiera się na tym samym pomyśle, co metoda Jacobiego, ale przy innym rozkładzie macierzy $A$:\n",
    "\n",
    "$$\n",
    "A=L_{*}+U\\qquad {\\text{where}}\\qquad L_{*}={\\begin{bmatrix}a_{11}&0&\\cdots &0\\\\a_{21}&a_{22}&\\cdots &0\\\\\\vdots &\\vdots &\\ddots &\\vdots \\\\a_{n1}&a_{n2}&\\cdots &a_{nn}\\end{bmatrix}},\\quad U={\\begin{bmatrix}0&a_{12}&\\cdots &a_{1n}\\\\0&0&\\cdots &a_{2n}\\\\\\vdots &\\vdots &\\ddots &\\vdots \\\\0&0&\\cdots &0\\end{bmatrix}}.\n",
    "$$\n",
    "\n",
    "Wtedy układ równań możemy zapisać jako: $ L_{*}\\mathbf {x} =\\mathbf {b} -U\\mathbf {x} $ i iterować tak:\n",
    "\n",
    "$$ \\mathbf {x} ^{(k+1)}=L_{*}^{-1}(\\mathbf {b} -U\\mathbf {x} ^{(k)}). $$\n",
    "\n",
    "Element po elemencie:\n",
    "\n",
    "$$ {\\displaystyle x_{i}^{(k+1)}={\\frac {1}{a_{ii}}}\\left(b_{i}-\\sum _{j=1}^{i-1}a_{ij}x_{j}^{(k+1)}-\\sum _{j=i+1}^{n}a_{ij}x_{j}^{(k)}\\right),\\quad i=1,2,\\dots ,n.} $$\n",
    "\n",
    "Podobnie jak z Jacobim, tutaj trick polega na tym, że macierz L jest łatwa do odwrócenia.\n",
    "\n",
    "### Zadanie 2.\n",
    "Zaimplementować metodę Gaussa-Seidela i przetestować na tych samych układach równań, co metodę Jacobiego. "
   ]
  },
  {
   "cell_type": "code",
   "execution_count": 2,
   "metadata": {},
   "outputs": [],
   "source": [
    "def gauss_seidel_solve(A: np.matrix, b: np.matrix, iterations = 1000) -> np.matrix:\n",
    "    n = A.shape[0]\n",
    "    x = np.zeros(n)\n",
    "    for it_count in range(iterations):\n",
    "        x_new = np.zeros_like(x)\n",
    "\n",
    "        for i in range(A.shape[0]):\n",
    "            s1 = np.dot(A[i, :i], x_new[:i])\n",
    "            s2 = np.dot(A[i, i + 1:], x[i + 1:])\n",
    "            x_new[i] = (b[i] - s1 - s2) / A[i, i]\n",
    "        x = x_new\n",
    "    return x"
   ]
  },
  {
   "cell_type": "code",
   "execution_count": 3,
   "metadata": {},
   "outputs": [],
   "source": [
    "A = np.matrix([[3,2],\n",
    "               [4,6]])\n",
    "b = np.matrix([9,14]).transpose()"
   ]
  },
  {
   "cell_type": "code",
   "execution_count": 4,
   "metadata": {},
   "outputs": [
    {
     "data": {
      "text/plain": [
       "array([2.6, 0.6])"
      ]
     },
     "execution_count": 4,
     "metadata": {},
     "output_type": "execute_result"
    }
   ],
   "source": [
    "jacobi_solve(A, b)"
   ]
  },
  {
   "cell_type": "code",
   "execution_count": 5,
   "metadata": {},
   "outputs": [
    {
     "data": {
      "text/plain": [
       "array([2.6, 0.6])"
      ]
     },
     "execution_count": 5,
     "metadata": {},
     "output_type": "execute_result"
    }
   ],
   "source": [
    "gauss_seidel_solve(A, b)"
   ]
  },
  {
   "cell_type": "markdown",
   "metadata": {},
   "source": [
    "#### Metoda SOR (Successive Over Relaxation)\n",
    "\n",
    "Znowu podobnie, tyle, że tym razem rozkładamy macierz na sumę trzech macierzy:\n",
    "\n",
    "$$\n",
    "D={\\begin{bmatrix}a_{11}&0&\\cdots &0\\\\0&a_{22}&\\cdots &0\\\\\\vdots &\\vdots &\\ddots &\\vdots \\\\0&0&\\cdots &a_{nn}\\end{bmatrix}},\\quad L={\\begin{bmatrix}0&0&\\cdots &0\\\\a_{21}&0&\\cdots &0\\\\\\vdots &\\vdots &\\ddots &\\vdots \\\\a_{n1}&a_{n2}&\\cdots &0\\end{bmatrix}},\\quad U={\\begin{bmatrix}0&a_{12}&\\cdots &a_{1n}\\\\0&0&\\cdots &a_{2n}\\\\\\vdots &\\vdots &\\ddots &\\vdots \\\\0&0&\\cdots &0\\end{bmatrix}}.\n",
    "$$\n",
    "\n",
    "Co umożliwia zapisanie układu równań tak: $ (D+\\omega L)\\mathbf {x} =\\omega \\mathbf {b} -[\\omega U+(\\omega -1)D]\\mathbf {x} $ i daje następujące wzory na iterację:\n",
    "\n",
    "$$ \\mathbf {x} ^{(k+1)}=(D+\\omega L)^{-1}{\\big (}\\omega \\mathbf {b} -[\\omega U+(\\omega -1)D]\\mathbf {x} ^{(k)}{\\big )}=L_{w}\\mathbf {x} ^{(k)}+\\mathbf {c} , $$\n",
    "\n",
    "oraz:\n",
    "\n",
    "$$ x_{i}^{(k+1)}=(1-\\omega )x_{i}^{(k)}+{\\frac {\\omega }{a_{ii}}}\\left(b_{i}-\\sum _{j<i}a_{ij}x_{j}^{(k+1)}-\\sum _{j>i}a_{ij}x_{j}^{(k)}\\right),\\quad i=1,2,\\ldots ,n. $$\n",
    "\n",
    "### Zadanie 3.\n",
    "Zaimplementować metodę SOR i przetestować na tych samych układach."
   ]
  },
  {
   "cell_type": "code",
   "execution_count": 6,
   "metadata": {},
   "outputs": [],
   "source": [
    "def sor_solve(A: np.matrix, b: np.matrix, iterations = 1000) -> np.matrix:\n",
    "    n = A.shape[0]\n",
    "    x = np.zeros(n)\n",
    "    omega = 1.44\n",
    "    k = 0\n",
    "    while k < iterations:\n",
    "        x1 = np.zeros(n)\n",
    "        for i in range(n):\n",
    "            sumL = 0\n",
    "            sumU = 0\n",
    "            for j in range(0, i):\n",
    "                sumL = sumL + A[i,j] * x1[j]\n",
    "            for j in range(i+1, n):\n",
    "                sumU = sumU + A[i,j] * x[j]\n",
    "            x1[i] = (1 - omega) * x[i] + (omega / A[i,i]) * (b[i] - sumL - sumU)\n",
    "        x = x1\n",
    "        k = k + 1\n",
    "    return x"
   ]
  },
  {
   "cell_type": "code",
   "execution_count": 7,
   "metadata": {},
   "outputs": [
    {
     "data": {
      "text/plain": [
       "array([2.6, 0.6])"
      ]
     },
     "execution_count": 7,
     "metadata": {},
     "output_type": "execute_result"
    }
   ],
   "source": [
    "sor_solve(A, b)"
   ]
  },
  {
   "cell_type": "markdown",
   "metadata": {},
   "source": [
    "### Zadanie 4.\n",
    "Dla powyższych metod porównać (na wykresie) tempo zbiegania do rozwiązania.\n",
    "\n",
    "### Pytanie\n",
    "Jakie jest kryterium zbieżności metod powyżej? Czy zawsze można je stosować?\n",
    "\n",
    "#### Bonus:\n",
    "Jak przeklejać piękne wzory z Wikipedii i się przy tym nie namęczyć? (na zajęciach)."
   ]
  },
  {
   "cell_type": "code",
   "execution_count": 8,
   "metadata": {},
   "outputs": [],
   "source": [
    "def check(A: np.matrix, b: np.matrix, method):\n",
    "    xt = np.linalg.solve(A, b)\n",
    "    for i in range(1,100):\n",
    "        x = method(A, b, i)\n",
    "        if(np.allclose(xt.transpose(), x)):\n",
    "            print(method.__name__,\"- zbieżność po\", i, \"iteracjach\")\n",
    "            break"
   ]
  },
  {
   "cell_type": "code",
   "execution_count": 9,
   "metadata": {},
   "outputs": [
    {
     "name": "stdout",
     "output_type": "stream",
     "text": [
      "sor_solve - zbieżność po 16 iteracjach\n",
      "gauss_seidel_solve - zbieżność po 15 iteracjach\n",
      "jacobi_solve - zbieżność po 30 iteracjach\n"
     ]
    }
   ],
   "source": [
    "check(A, b, sor_solve)\n",
    "check(A, b, gauss_seidel_solve)\n",
    "check(A, b, jacobi_solve)"
   ]
  },
  {
   "cell_type": "code",
   "execution_count": null,
   "metadata": {},
   "outputs": [],
   "source": [
    "Metody Gaussa-Seidla oraz Jacobiego są zbieżne, \n",
    "jeśli macierz A spełnia warunek ścisłej dominacji przekątniowej w rzędach lub kolumnach."
   ]
  }
 ],
 "metadata": {
  "kernelspec": {
   "display_name": "Python 3",
   "language": "python",
   "name": "python3"
  },
  "language_info": {
   "codemirror_mode": {
    "name": "ipython",
    "version": 3
   },
   "file_extension": ".py",
   "mimetype": "text/x-python",
   "name": "python",
   "nbconvert_exporter": "python",
   "pygments_lexer": "ipython3",
   "version": "3.7.3"
  }
 },
 "nbformat": 4,
 "nbformat_minor": 2
}
